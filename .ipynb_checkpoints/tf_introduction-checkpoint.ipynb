{
 "cells": [
  {
   "cell_type": "markdown",
   "metadata": {},
   "source": [
    "# 初识TensorFlow"
   ]
  },
  {
   "cell_type": "markdown",
   "metadata": {},
   "source": [
    "TensorFlow是 google 开源的机器学习工具，在2015年11月其实现正式开源，开源协议Apache 2.0。"
   ]
  },
  {
   "cell_type": "markdown",
   "metadata": {},
   "source": [
    "## 1. TensorFlow 的基本概念"
   ]
  },
  {
   "cell_type": "markdown",
   "metadata": {},
   "source": [
    "* TensorFlow的神经网络：用张量表示数据，用计算图表示神经网络，用会话执行计算图，优化计算图中的参数，得到模型"
   ]
  },
  {
   "cell_type": "markdown",
   "metadata": {},
   "source": [
    "    * 下面我们来看一个TensorFlow搭建的计算图"
   ]
  },
  {
   "cell_type": "markdown",
   "metadata": {},
   "source": [
    "假设我们要实现这样的一个数据图"
   ]
  },
  {
   "cell_type": "markdown",
   "metadata": {},
   "source": [
    "<img src=\"img/计算图.jpg\" width = \"300\" height = \"200\" alt=\"图片名称\" align=left />"
   ]
  },
  {
   "cell_type": "markdown",
   "metadata": {},
   "source": [
    "当需要计算e时就需要计算c与d，而计算c就需要计算a与b，计算d需要计算b。这样就形成了依赖关系。这种有向无环图就叫做计算图"
   ]
  },
  {
   "cell_type": "markdown",
   "metadata": {},
   "source": [
    "### 张量"
   ]
  },
  {
   "cell_type": "markdown",
   "metadata": {},
   "source": [
    "张量就是多维数组(列表)，用“阶”表示张量的维度。"
   ]
  },
  {
   "cell_type": "markdown",
   "metadata": {},
   "source": [
    "- 0 阶张量称作标量，表示一个单独的数; 举例 S=123\n",
    "- 1 阶张量称作向量，表示一个一维数组; 举例 V=[1,2,3]\n",
    "- 2 阶张量称作矩阵，表示一个二维数组，它可以有 i 行 j 列个元素，每个元素可 以用行号和列号共同索引到;\n",
    "- 举例 m=[[1, 2, 3], [4, 5, 6], [7, 8, 9]] 判断张量是几阶的，就通过张量右边的方括号数，0 个是 0 阶，n 个是 n 阶，张 量可以表示 0 阶到 n 阶数组(列表);\n",
    "- 举例 t=[ [ [... ] ] ]为 3 阶。\n"
   ]
  },
  {
   "cell_type": "markdown",
   "metadata": {},
   "source": [
    "### 数据类型"
   ]
  },
  {
   "cell_type": "markdown",
   "metadata": {},
   "source": [
    "- Tensorflow 的数据类型有 tf.float32、tf.int32 等。"
   ]
  },
  {
   "cell_type": "markdown",
   "metadata": {},
   "source": [
    "- 举例"
   ]
  },
  {
   "cell_type": "code",
   "execution_count": 19,
   "metadata": {
    "collapsed": false
   },
   "outputs": [
    {
     "name": "stdout",
     "output_type": "stream",
     "text": [
      "Tensor(\"add:0\", shape=(2,), dtype=float32)\n"
     ]
    }
   ],
   "source": [
    "#我们实现 Tensorflow 的加法:\n",
    "import tensorflow as tf\n",
    "# 定义一个张量 等于[1.0, 2.0]\n",
    "a = tf.constant([1.0, 2.0])\n",
    "#定义一个张量等于[3.0, 4.0]\n",
    "b = tf.constant([3.0, 4.0])\n",
    "#实现a+b的加法\n",
    "result = a+b\n",
    "print(result)"
   ]
  },
  {
   "cell_type": "markdown",
   "metadata": {},
   "source": [
    "意思为 result 是一个名称为 add:0 的张量，shape=(2,)表示一维数组长度为 2， dtype=float32 表示数据类型为浮点型。"
   ]
  },
  {
   "cell_type": "markdown",
   "metadata": {},
   "source": [
    "### 计算图(Graph)"
   ]
  },
  {
   "cell_type": "markdown",
   "metadata": {},
   "source": [
    "搭建神经网络的计算过程，是承载一个或多个计算节点的一 张图，只搭建网络，不运算"
   ]
  },
  {
   "cell_type": "markdown",
   "metadata": {},
   "source": [
    "#### 举例"
   ]
  },
  {
   "cell_type": "markdown",
   "metadata": {},
   "source": [
    "神经网络的基本模型是神经元，神经元的基本模型其 实就是数学中的乘、加运算。我们搭建如下的计算图:"
   ]
  },
  {
   "cell_type": "markdown",
   "metadata": {},
   "source": [
    "<img src=\"img/图x.png\" width = \"500\" height = \"300\" alt=\"graph\" align=left />"
   ]
  },
  {
   "cell_type": "markdown",
   "metadata": {},
   "source": [
    "x1、x2 表示输入，w1、w2 分别是 x1 到 y 和 x2 到 y 的权重，y=x1*w1+x2*w2。"
   ]
  },
  {
   "cell_type": "markdown",
   "metadata": {},
   "source": [
    "下面我们使用TensorFlow实现上述计算图:"
   ]
  },
  {
   "cell_type": "code",
   "execution_count": 21,
   "metadata": {
    "collapsed": false
   },
   "outputs": [
    {
     "name": "stdout",
     "output_type": "stream",
     "text": [
      "Tensor(\"MatMul:0\", shape=(1, 1), dtype=float32)\n"
     ]
    }
   ],
   "source": [
    "# 首先要引入TensorFlow\n",
    "import tensorflow as tf\n",
    "# 定义二阶张量x\n",
    "x = tf.constant([[1.0, 2.0]])\n",
    "# 定于二阶张量w\n",
    "w = tf.constant([[3.0], [4.0]])\n",
    "\n",
    "# 计算y\n",
    "y = tf.matmul(x, w)\n",
    "# 打印出y的值\n",
    "print(y)"
   ]
  },
  {
   "cell_type": "markdown",
   "metadata": {},
   "source": [
    "从这里我们可以看出，print 的结果显示 y 是一个张量，只搭建承载计算过程的 计算图，并没有运算，如果我们想得到运算结果就要用到“会话 Session()”了。"
   ]
  },
  {
   "cell_type": "markdown",
   "metadata": {},
   "source": [
    "### 会话(Session)"
   ]
  },
  {
   "cell_type": "markdown",
   "metadata": {},
   "source": [
    "with 结构实现Session，语法如下:"
   ]
  },
  {
   "cell_type": "code",
   "execution_count": 23,
   "metadata": {
    "collapsed": false
   },
   "outputs": [
    {
     "name": "stdout",
     "output_type": "stream",
     "text": [
      "[[ 11.]]\n"
     ]
    }
   ],
   "source": [
    "with tf.Session() as sess:\n",
    "    print(sess.run(y))"
   ]
  },
  {
   "cell_type": "markdown",
   "metadata": {},
   "source": [
    "运行 Session()会话前只打印出 y 是个张量的提示，运行 Session() 会话后打印出了 y 的结果 1.0 * 3.0 + 2.0 * 4.0 = 11.0。"
   ]
  },
  {
   "cell_type": "markdown",
   "metadata": {},
   "source": [
    "我们来看一个例子"
   ]
  },
  {
   "cell_type": "code",
   "execution_count": 3,
   "metadata": {
    "collapsed": true
   },
   "outputs": [],
   "source": [
    "# 引入TensorFlow\n",
    "import  tensorflow as tf\n",
    "# 定义一个计算图\n",
    "graph  = tf.Graph()\n",
    "\n",
    "with  graph.as_default():\n",
    "    # 定义计算图的变量a tf.Variable是定义变量并赋予初值\n",
    "    a = tf.Variable(3,name='a')\n",
    "    # 定义计算图的变量b \n",
    "    b = tf.Variable(2,name='b')\n",
    "\n",
    "    result = a + b\n",
    "\n",
    "    initialize =  tf.global_variables_initializer()"
   ]
  },
  {
   "cell_type": "markdown",
   "metadata": {},
   "source": [
    "我们来输出一下result"
   ]
  },
  {
   "cell_type": "code",
   "execution_count": 16,
   "metadata": {
    "collapsed": false
   },
   "outputs": [
    {
     "name": "stdout",
     "output_type": "stream",
     "text": [
      "Tensor(\"add:0\", shape=(), dtype=int32)\n"
     ]
    }
   ],
   "source": [
    "print(result)"
   ]
  },
  {
   "cell_type": "markdown",
   "metadata": {},
   "source": [
    "输出的result是一个张量"
   ]
  },
  {
   "cell_type": "markdown",
   "metadata": {},
   "source": [
    "下面我们来使用会话计算这个图"
   ]
  },
  {
   "cell_type": "code",
   "execution_count": 17,
   "metadata": {
    "collapsed": false
   },
   "outputs": [
    {
     "name": "stdout",
     "output_type": "stream",
     "text": [
      "5\n"
     ]
    }
   ],
   "source": [
    "with  tf.Session(graph=graph) as sess:\n",
    "\n",
    "    sess.run(initialize)\n",
    "    tf.summary.FileWriter('./logs/summary', sess.graph)\n",
    "    res = sess.run(result)\n",
    "    print(res) "
   ]
  },
  {
   "cell_type": "markdown",
   "metadata": {},
   "source": [
    "这段代码中，定义了session，并在session中执行了真正的初始化，并且求得result的值并打印出来。可以看到，在session中产生了真正的计算，得出值为5。\n"
   ]
  },
  {
   "cell_type": "markdown",
   "metadata": {},
   "source": [
    "我们利用tensorboard查看一下数据图"
   ]
  },
  {
   "cell_type": "markdown",
   "metadata": {},
   "source": [
    "在终端中输入代码：\n",
    "`tensorboard --logdir=logs/summary`\n",
    "\n",
    "使用tensorboard可视化工具查看数据流图"
   ]
  },
  {
   "cell_type": "markdown",
   "metadata": {},
   "source": [
    "<img src=\"img/graph.png\" width = \"800\" height = \"500\" alt=\"graph\" align=left />"
   ]
  },
  {
   "cell_type": "markdown",
   "metadata": {},
   "source": [
    "## 2.训练神经网络的参数"
   ]
  },
  {
   "cell_type": "markdown",
   "metadata": {},
   "source": [
    "神经网络的参数:是指神经元线上的权重 w，用变量表示，一般会先随机生成 这些参数。生成参数的方法是让 w 等于 tf.Variable，把生成的方式写在括号里。"
   ]
  },
  {
   "cell_type": "markdown",
   "metadata": {},
   "source": [
    "- 神经网络中常用的生成随机数/数组的函数有:"
   ]
  },
  {
   "cell_type": "markdown",
   "metadata": {},
   "source": [
    "    * tf.random_normal()  生成正态分布随机数"
   ]
  },
  {
   "cell_type": "markdown",
   "metadata": {},
   "source": [
    "    * tf.truncated_normal() 生成去掉过大偏离点的正态分布随机数"
   ]
  },
  {
   "cell_type": "markdown",
   "metadata": {},
   "source": [
    "    * tf.random_uniform() 生成均匀分布随机数"
   ]
  },
  {
   "cell_type": "markdown",
   "metadata": {},
   "source": [
    "    * tf.zeros 表示生成全 0 数组"
   ]
  },
  {
   "cell_type": "markdown",
   "metadata": {},
   "source": [
    "    * tf.ones 表示生成全 1 数组"
   ]
  },
  {
   "cell_type": "markdown",
   "metadata": {},
   "source": [
    "    * tf.fill 表示生成全定值数组"
   ]
  },
  {
   "cell_type": "markdown",
   "metadata": {},
   "source": [
    "    * tf.constant 表示生成直接给定值的数组"
   ]
  },
  {
   "cell_type": "markdown",
   "metadata": {},
   "source": [
    "### 举例"
   ]
  },
  {
   "cell_type": "markdown",
   "metadata": {},
   "source": [
    "- w=tf.Variable(tf.random_normal([2,3],stddev=2, mean=0, seed=1))"
   ]
  },
  {
   "cell_type": "markdown",
   "metadata": {},
   "source": [
    "    表示生成正态分布随机数，形状两行三列，标准差是 2，均值是 0，随机种子是 1"
   ]
  },
  {
   "cell_type": "markdown",
   "metadata": {},
   "source": [
    "- w=tf.Variable(tf.Truncated_normal([2,3],stddev=2, mean=0, seed=1))"
   ]
  },
  {
   "cell_type": "markdown",
   "metadata": {},
   "source": [
    "    表示去掉偏离过大的正态分布，也就是如果随机出来的数据偏离平均值超过两个 标准差，这个数据将重新生成。"
   ]
  },
  {
   "cell_type": "markdown",
   "metadata": {},
   "source": [
    "- w=random_uniform(shape=7,minval=0,maxval=1,dtype=tf.int32，seed=1),"
   ]
  },
  {
   "cell_type": "markdown",
   "metadata": {},
   "source": [
    "    表示从一个均匀分布[minval maxval)中随机采样，注意定义域是左闭右开，即 包含 minval，不包含 maxval。"
   ]
  },
  {
   "cell_type": "markdown",
   "metadata": {},
   "source": [
    "- tf.zeros([3,2],int32)表示生成 [[0,0],[0,0],[0,0]];"
   ]
  },
  {
   "cell_type": "markdown",
   "metadata": {},
   "source": [
    "- tf.ones([3,2],int32)表示生成[[1,1],[1,1],[1,1]"
   ]
  },
  {
   "cell_type": "markdown",
   "metadata": {},
   "source": [
    "- tf.fill([3,2],6)表示生成[[6,6],[6,6],[6,6]];"
   ]
  },
  {
   "cell_type": "markdown",
   "metadata": {},
   "source": [
    "- tf.constant([3,2,1])表示 生成[3,2,1]。"
   ]
  },
  {
   "cell_type": "markdown",
   "metadata": {},
   "source": [
    "ps：如果没有特殊要求标准差、均值、随机种子是可以不写的。随机种子如果去掉每次生成的随机数将不一致。"
   ]
  },
  {
   "cell_type": "code",
   "execution_count": null,
   "metadata": {
    "collapsed": true
   },
   "outputs": [],
   "source": []
  }
 ],
 "metadata": {
  "kernelspec": {
   "display_name": "Python 3",
   "language": "python",
   "name": "python3"
  },
  "language_info": {
   "codemirror_mode": {
    "name": "ipython",
    "version": 3
   },
   "file_extension": ".py",
   "mimetype": "text/x-python",
   "name": "python",
   "nbconvert_exporter": "python",
   "pygments_lexer": "ipython3",
   "version": "3.6.0"
  }
 },
 "nbformat": 4,
 "nbformat_minor": 2
}
